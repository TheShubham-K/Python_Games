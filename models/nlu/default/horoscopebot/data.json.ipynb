{
 "cells": [
  {
   "cell_type": "code",
   "execution_count": 3,
   "metadata": {},
   "outputs": [
    {
     "data": {
      "text/plain": [
       "{'rasa_nlu_data': {'common_examples': [{'text': 'Hello',\n",
       "    'intent': 'greeting',\n",
       "    'entities': []},\n",
       "   {'text': 'I want to my Horoscope',\n",
       "    'intent': 'get_horoscope',\n",
       "    'entities': []},\n",
       "   {'text': 'Can you please tell me your Horoscope',\n",
       "    'intent': 'get_horoscope',\n",
       "    'entities': []},\n",
       "   {'text': 'Please Subscribe Me', 'intent': 'subsbription'}],\n",
       "  'regex_features': [],\n",
       "  'entity_synonyms': []}}"
      ]
     },
     "execution_count": 3,
     "metadata": {},
     "output_type": "execute_result"
    }
   ],
   "source": [
    "from rasa_nlu.training_data import load_data\n",
    "from rasa_nlu.model import Trainer\n",
    "from rasa_nlu import config\n",
    "from rasa_nlu.model import Interpreter\n",
    "\n",
    "def train_horoscopebot(data_json, config_file, model_dir):\n",
    "    training_data = load_data(data_json)\n",
    "    trainer = Trainer(config.load(config_file))\n",
    "    trainer.train(training_data)\n",
    "    model_dirctory = trainer.persist(model_dir, fixed_model_name = 'horoscopebot')\n",
    "    \n",
    "def predict_intent(text):\n",
    "    interpreter = Interpreter.load('./models/nlu/default/horoscopebot')\n",
    "    print(interpreter.parse(text)) \n",
    "    \n",
    "{\n",
    "    \"rasa_nlu_data\" : {\n",
    "        \"common_examples\" :[\n",
    "            {\n",
    "                \"text\" : \"Hello\",\n",
    "                \"intent\" : \"greeting\",\n",
    "                \"entities\" : []\n",
    "            },\n",
    "            {\n",
    "                \"text\" : \"I want to my Horoscope\",\n",
    "                \"intent\" : \"get_horoscope\",\n",
    "                \"entities\" : [],\n",
    "            },\n",
    "            {\n",
    "                \"text\" : \"Can you please tell me your Horoscope\",\n",
    "                \"intent\" : \"get_horoscope\",\n",
    "                \"entities\" : []\n",
    "            },\n",
    "            {\n",
    "                \"text\" : \"Please Subscribe Me\",\n",
    "                \"intent\" : \"subsbription\"\n",
    "            }\n",
    "        ],\n",
    "        \"regex_features\" : [],\n",
    "        \"entity_synonyms\" : []\n",
    "    }\n",
    "}"
   ]
  }
 ],
 "metadata": {
  "kernelspec": {
   "display_name": "Python 3",
   "language": "python",
   "name": "python3"
  },
  "language_info": {
   "codemirror_mode": {
    "name": "ipython",
    "version": 3
   },
   "file_extension": ".py",
   "mimetype": "text/x-python",
   "name": "python",
   "nbconvert_exporter": "python",
   "pygments_lexer": "ipython3",
   "version": "3.7.3"
  }
 },
 "nbformat": 4,
 "nbformat_minor": 2
}
