{
 "cells": [
  {
   "cell_type": "code",
   "execution_count": 18,
   "metadata": {},
   "outputs": [
    {
     "data": {
      "text/plain": [
       "{'intent': 'Search_resturant',\n",
       " 'entities': {'cuisine': 'Mexician', 'Location': 'Center'}}"
      ]
     },
     "execution_count": 18,
     "metadata": {},
     "output_type": "execute_result"
    }
   ],
   "source": [
    "#Rasa-NLU\n",
    "\n",
    "{\n",
    "    \"intent\": \"Search_resturant\",\n",
    "    \"entities\" : {\n",
    "        \"cuisine\" : \"Mexician\",\n",
    "        \"Location\" : \"Center\"\n",
    "  }\n",
    "}"
   ]
  },
  {
   "cell_type": "code",
   "execution_count": 19,
   "metadata": {},
   "outputs": [
    {
     "data": {
      "text/plain": [
       "{'rasa_nlu_data': {'common_examples': [],\n",
       "  'regex_features': [],\n",
       "  'entity_synonyms': []}}"
      ]
     },
     "execution_count": 19,
     "metadata": {},
     "output_type": "execute_result"
    }
   ],
   "source": [
    "{\n",
    "    \"rasa_nlu_data\" : {\n",
    "        \"common_examples\" : [],\n",
    "        \"regex_features\" : [],\n",
    "        \"entity_synonyms\" : []\n",
    "    }\n",
    "}"
   ]
  },
  {
   "cell_type": "code",
   "execution_count": 20,
   "metadata": {},
   "outputs": [
    {
     "data": {
      "text/plain": [
       "{'text': '19-01',\n",
       " 'intent': 'dob_intent',\n",
       " 'entities': [{'start': 0, 'end': 2, 'value': '19', 'entity': 'DD'},\n",
       "  {'start': 3, 'end': 5, 'value': '01', 'entity': 'MM'}]}"
      ]
     },
     "execution_count": 20,
     "metadata": {},
     "output_type": "execute_result"
    }
   ],
   "source": [
    "{\n",
    "    \"text\" : \"19-01\",\n",
    "    \"intent\" : \"dob_intent\",\n",
    "    \"entities\":[\n",
    "        {\n",
    "            \"start\" : 0,\n",
    "            \"end\" : 2,\n",
    "            \"value\" : \"19\",\n",
    "            \"entity\" : \"DD\"\n",
    "        },\n",
    "        {\n",
    "            \"start\" : 3,\n",
    "            \"end\" : 5,\n",
    "            \"value\" : \"01\",\n",
    "            \"entity\" : \"MM\"\n",
    "        }\n",
    "    ]\n",
    "}"
   ]
  },
  {
   "cell_type": "code",
   "execution_count": 26,
   "metadata": {},
   "outputs": [],
   "source": [
    "from rasa_nlu.training_data import load_data\n",
    "from rasa_nlu.model import Trainer\n",
    "from rasa_nlu import config\n",
    "from rasa_nlu.model import Interpreter\n",
    "import tensorflow as tf\n",
    "\n",
    "\n",
    "def train_horoscopebot(data_json, config_file, model_dir):\n",
    "    training_data = load_data(data_json)\n",
    "    trainer = Trainer(config.load(config_file))\n",
    "    trainer.train(training_data)\n",
    "    model_dirctory = trainer.persist(model_dir, fixed_model_name = 'horoscopebot')\n",
    "    \n",
    "def predict_intent(text):\n",
    "    interpreter = Interpreter.load('./models/nlu/default/horoscopebot')\n",
    "    print(interpreter.parse(text))\n",
    "    "
   ]
  },
  {
   "cell_type": "code",
   "execution_count": 22,
   "metadata": {},
   "outputs": [],
   "source": [
    "#train_horoscopebot('./data/data.json', 'config.json', './models/nlu')"
   ]
  },
  {
   "cell_type": "code",
   "execution_count": 7,
   "metadata": {},
   "outputs": [
    {
     "ename": "NameError",
     "evalue": "name 'predict_intent' is not defined",
     "output_type": "error",
     "traceback": [
      "\u001b[0;31m---------------------------------------------------------------------------\u001b[0m",
      "\u001b[0;31mNameError\u001b[0m                                 Traceback (most recent call last)",
      "\u001b[0;32m<ipython-input-7-db420cfe7c49>\u001b[0m in \u001b[0;36m<module>\u001b[0;34m\u001b[0m\n\u001b[0;32m----> 1\u001b[0;31m \u001b[0mpredict_intent\u001b[0m\u001b[0;34m(\u001b[0m\u001b[0;34m\"I am looking for my horoscope for today. I am wondering if you can tell me that.\"\u001b[0m\u001b[0;34m)\u001b[0m\u001b[0;34m\u001b[0m\u001b[0;34m\u001b[0m\u001b[0m\n\u001b[0m",
      "\u001b[0;31mNameError\u001b[0m: name 'predict_intent' is not defined"
     ]
    }
   ],
   "source": [
    "predict_intent(\"I am looking for my horoscope for today. I am wondering if you can tell me that.\")"
   ]
  },
  {
   "cell_type": "code",
   "execution_count": null,
   "metadata": {},
   "outputs": [],
   "source": []
  }
 ],
 "metadata": {
  "kernelspec": {
   "display_name": "Python 3",
   "language": "python",
   "name": "python3"
  },
  "language_info": {
   "codemirror_mode": {
    "name": "ipython",
    "version": 3
   },
   "file_extension": ".py",
   "mimetype": "text/x-python",
   "name": "python",
   "nbconvert_exporter": "python",
   "pygments_lexer": "ipython3",
   "version": "3.7.3"
  }
 },
 "nbformat": 4,
 "nbformat_minor": 2
}
